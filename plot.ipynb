{
  "nbformat": 4,
  "nbformat_minor": 0,
  "metadata": {
    "colab": {
      "name": "plot.ipynb",
      "provenance": []
    },
    "kernelspec": {
      "name": "python3",
      "display_name": "Python 3"
    },
    "language_info": {
      "name": "python"
    }
  },
  "cells": [
    {
      "cell_type": "code",
      "metadata": {
        "colab": {
          "base_uri": "https://localhost:8080/",
          "height": 206
        },
        "id": "g8lFmM3xAvVH",
        "outputId": "308c5dac-1d7c-4ee1-d735-d7ba5bf8577e"
      },
      "source": [
        "# read data from github\n",
        "import pandas as pd\n",
        "import numpy as np\n",
        "import matplotlib.pyplot as plt\n",
        "\n",
        "url = 'https://github.com/Akarawee-Chavanarorkrat/DS340w/raw/main/AAPL(1).csv'\n",
        "apple = pd.read_csv(url, error_bad_lines=False)\n",
        "apple.head()"
      ],
      "execution_count": 6,
      "outputs": [
        {
          "output_type": "execute_result",
          "data": {
            "text/html": [
              "<div>\n",
              "<style scoped>\n",
              "    .dataframe tbody tr th:only-of-type {\n",
              "        vertical-align: middle;\n",
              "    }\n",
              "\n",
              "    .dataframe tbody tr th {\n",
              "        vertical-align: top;\n",
              "    }\n",
              "\n",
              "    .dataframe thead th {\n",
              "        text-align: right;\n",
              "    }\n",
              "</style>\n",
              "<table border=\"1\" class=\"dataframe\">\n",
              "  <thead>\n",
              "    <tr style=\"text-align: right;\">\n",
              "      <th></th>\n",
              "      <th>Date</th>\n",
              "      <th>Open</th>\n",
              "      <th>High</th>\n",
              "      <th>Low</th>\n",
              "      <th>Close</th>\n",
              "      <th>Adj Close</th>\n",
              "      <th>Volume</th>\n",
              "    </tr>\n",
              "  </thead>\n",
              "  <tbody>\n",
              "    <tr>\n",
              "      <th>0</th>\n",
              "      <td>2011-09-28</td>\n",
              "      <td>14.292500</td>\n",
              "      <td>14.419286</td>\n",
              "      <td>14.161071</td>\n",
              "      <td>14.178929</td>\n",
              "      <td>12.174259</td>\n",
              "      <td>429637600</td>\n",
              "    </tr>\n",
              "    <tr>\n",
              "      <th>1</th>\n",
              "      <td>2011-09-29</td>\n",
              "      <td>14.354286</td>\n",
              "      <td>14.364643</td>\n",
              "      <td>13.793214</td>\n",
              "      <td>13.948929</td>\n",
              "      <td>11.976778</td>\n",
              "      <td>651086800</td>\n",
              "    </tr>\n",
              "    <tr>\n",
              "      <th>2</th>\n",
              "      <td>2011-09-30</td>\n",
              "      <td>13.825714</td>\n",
              "      <td>13.888929</td>\n",
              "      <td>13.613571</td>\n",
              "      <td>13.618571</td>\n",
              "      <td>11.693130</td>\n",
              "      <td>547640800</td>\n",
              "    </tr>\n",
              "    <tr>\n",
              "      <th>3</th>\n",
              "      <td>2011-10-03</td>\n",
              "      <td>13.584643</td>\n",
              "      <td>13.665714</td>\n",
              "      <td>13.327500</td>\n",
              "      <td>13.378571</td>\n",
              "      <td>11.487063</td>\n",
              "      <td>669099200</td>\n",
              "    </tr>\n",
              "    <tr>\n",
              "      <th>4</th>\n",
              "      <td>2011-10-04</td>\n",
              "      <td>13.377500</td>\n",
              "      <td>13.635714</td>\n",
              "      <td>12.651429</td>\n",
              "      <td>13.303571</td>\n",
              "      <td>11.422664</td>\n",
              "      <td>1233677200</td>\n",
              "    </tr>\n",
              "  </tbody>\n",
              "</table>\n",
              "</div>"
            ],
            "text/plain": [
              "         Date       Open       High  ...      Close  Adj Close      Volume\n",
              "0  2011-09-28  14.292500  14.419286  ...  14.178929  12.174259   429637600\n",
              "1  2011-09-29  14.354286  14.364643  ...  13.948929  11.976778   651086800\n",
              "2  2011-09-30  13.825714  13.888929  ...  13.618571  11.693130   547640800\n",
              "3  2011-10-03  13.584643  13.665714  ...  13.378571  11.487063   669099200\n",
              "4  2011-10-04  13.377500  13.635714  ...  13.303571  11.422664  1233677200\n",
              "\n",
              "[5 rows x 7 columns]"
            ]
          },
          "metadata": {},
          "execution_count": 6
        }
      ]
    },
    {
      "cell_type": "code",
      "metadata": {
        "colab": {
          "base_uri": "https://localhost:8080/",
          "height": 283
        },
        "id": "k0T336P9DbcM",
        "outputId": "72cf4f3d-4f1e-4809-9b78-5d488c31a20d"
      },
      "source": [
        "plt.plot(apple['Adj Close'])\n",
        "# upload to github"
      ],
      "execution_count": 7,
      "outputs": [
        {
          "output_type": "execute_result",
          "data": {
            "text/plain": [
              "[<matplotlib.lines.Line2D at 0x7f534fc00b90>]"
            ]
          },
          "metadata": {},
          "execution_count": 7
        },
        {
          "output_type": "display_data",
          "data": {
            "image/png": "[encoded data removed]",
            "text/plain": [
              "<Figure size 432x288 with 1 Axes>"
            ]
          },
          "metadata": {
            "needs_background": "light"
          }
        }
      ]
    },
    {
      "cell_type": "code",
      "metadata": {
        "id": "UUiNF7WAAzY9"
      },
      "source": [
        "# create code \n"
      ],
      "execution_count": null,
      "outputs": []
    }
  ]
}